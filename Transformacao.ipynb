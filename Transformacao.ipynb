{
 "cells": [
  {
   "cell_type": "code",
   "execution_count": null,
   "id": "85e89e69",
   "metadata": {},
   "outputs": [],
   "source": [
    "import pandas as pd\n",
    "import pandera as pa"
   ]
  },
  {
   "cell_type": "code",
   "execution_count": null,
   "id": "d00025b8",
   "metadata": {},
   "outputs": [],
   "source": [
    "valores_ausentes = ['###!','****','***','####','*****','NULL'] #limpeza de dados no carregmento (extracao)\n",
    "\n",
    "df = pd.read_csv(\"ocorrencia.csv\",nrows=2000, sep=\";\", parse_dates=['ocorrencia_dia'], dayfirst=True, na_values= valores_ausentes)\n",
    "\n",
    "df.head(10)"
   ]
  },
  {
   "cell_type": "code",
   "execution_count": null,
   "id": "acbe8b70",
   "metadata": {},
   "outputs": [],
   "source": [
    "schema = pa.DataFrameSchema(\n",
    "columns={\n",
    "    \"codigo\": pa.Column(pa.Int, required=False),\n",
    "    \"codigo_ocorrencia\": pa.Column(pa.Int),\n",
    "    \"codigo_ocorrencia2\":pa.Column(pa.Int),\n",
    "    \"ocorrencia_classificacao\": pa.Column(pa.String),\n",
    "    \"ocorrencia_cidade\":pa.Column(pa.String),\n",
    "    \"ocorrencia_cidade\":pa.Column(pa.String),\n",
    "    \"ocorrencia_uf\":pa.Column(pa.String, pa.Check.str_length(2,2), nullable=True),\n",
    "    \"ocorrencia_dia\":pa.Column(pa.DateTime),\n",
    "    \"ocorrencia_hora\":pa.Column(pa.String, pa.Check.str_matches(r'^([0-1]?[0-9]|[2][0-3]):([0-5][0-9])(:[0-5][0-9])?$'),nullable=True),\n",
    "    \"total_recomendacoes\":pa.Column(pa.Int)\n",
    "    }\n",
    ")"
   ]
  },
  {
   "cell_type": "code",
   "execution_count": null,
   "id": "7c98ab99",
   "metadata": {},
   "outputs": [],
   "source": [
    "schema.validate(df)"
   ]
  },
  {
   "cell_type": "code",
   "execution_count": null,
   "id": "86b80e98",
   "metadata": {},
   "outputs": [],
   "source": [
    "df.dtypes"
   ]
  },
  {
   "cell_type": "markdown",
   "id": "c09abc68",
   "metadata": {},
   "source": [
    "# FILTRANDO DADOS"
   ]
  },
  {
   "cell_type": "code",
   "execution_count": null,
   "id": "605c3fd0",
   "metadata": {},
   "outputs": [],
   "source": [
    "df.loc[1]"
   ]
  },
  {
   "cell_type": "code",
   "execution_count": null,
   "id": "a09c774e",
   "metadata": {},
   "outputs": [],
   "source": [
    "df.iloc[1]#iloc busca pelo indice ou loc pelo label"
   ]
  },
  {
   "cell_type": "code",
   "execution_count": null,
   "id": "b0aa717a",
   "metadata": {},
   "outputs": [],
   "source": [
    "df.iloc[-1]"
   ]
  },
  {
   "cell_type": "code",
   "execution_count": null,
   "id": "e8ba54ae",
   "metadata": {},
   "outputs": [],
   "source": [
    "df.tail()"
   ]
  },
  {
   "cell_type": "code",
   "execution_count": null,
   "id": "80538e83",
   "metadata": {},
   "outputs": [],
   "source": [
    "df.iloc[10:15]"
   ]
  },
  {
   "cell_type": "code",
   "execution_count": null,
   "id": "a7b29a26",
   "metadata": {},
   "outputs": [],
   "source": [
    "df.loc[:,'ocorrencia_uf']"
   ]
  },
  {
   "cell_type": "code",
   "execution_count": null,
   "id": "efaed62a",
   "metadata": {},
   "outputs": [],
   "source": [
    "df['ocorrencia_uf']"
   ]
  },
  {
   "cell_type": "code",
   "execution_count": null,
   "id": "2abf4c13",
   "metadata": {},
   "outputs": [],
   "source": [
    "df.isna().sum() #quais colunas possuem valores nao informados ou isnull"
   ]
  },
  {
   "cell_type": "code",
   "execution_count": null,
   "id": "29a50f6b",
   "metadata": {},
   "outputs": [],
   "source": [
    "filtro =df.ocorrencia_aerodromo.isnull()\n",
    "\n",
    "df.loc[filtro]"
   ]
  },
  {
   "cell_type": "code",
   "execution_count": null,
   "id": "204c150a",
   "metadata": {},
   "outputs": [],
   "source": [
    "df.count() #contagem "
   ]
  },
  {
   "cell_type": "code",
   "execution_count": null,
   "id": "32601664",
   "metadata": {},
   "outputs": [],
   "source": [
    "# filtrar numeros ocorrencias com mais de 10 recomendacoes\n",
    "filtro = df.total_recomendacoes > 10\n",
    "df.loc[filtro]"
   ]
  },
  {
   "cell_type": "code",
   "execution_count": null,
   "id": "7b0093bf",
   "metadata": {},
   "outputs": [],
   "source": [
    "filtro = df.total_recomendacoes > 10\n",
    "df.loc[filtro, ['ocorrencia_cidade', 'total_recomendacoes']]"
   ]
  },
  {
   "cell_type": "code",
   "execution_count": null,
   "id": "f8baea12",
   "metadata": {},
   "outputs": [],
   "source": [
    "#ocorrencias com classificao incidente grave\n",
    "filtro = df.ocorrencia_classificacao == 'INCIDENTE GRAVE'\n",
    "df.loc[filtro, ['ocorrencia_cidade', 'total_recomendacoes','ocorrencia_classificacao']]"
   ]
  },
  {
   "cell_type": "code",
   "execution_count": null,
   "id": "64b4d863",
   "metadata": {},
   "outputs": [],
   "source": [
    "#combinar dois filtros\n",
    "#ocorrencias com classificao incidente grave e estado é SP se quiser ou é (|)\n",
    "\n",
    "filtro1 = df.ocorrencia_classificacao == 'INCIDENTE GRAVE'\n",
    "filtro2 = df.ocorrencia_uf == 'SP'\n",
    "df.loc[filtro1 & filtro2,['ocorrencia_uf', 'ocorrencia_classificacao']]"
   ]
  },
  {
   "cell_type": "code",
   "execution_count": null,
   "id": "a1098d3e",
   "metadata": {},
   "outputs": [],
   "source": [
    "#metodo isin(['INCIDENTE GRAVE','INCIDENTE']) = Verifica se esta dentro das possibilidader melhor que usar operar OU |\n",
    "filtro1 = df.ocorrencia_classificacao.isin(['INCIDENTE GRAVE','INCIDENTE'])\n",
    "filtro2 = df.ocorrencia_uf == 'SP'\n",
    "df.loc[filtro1 & filtro2]"
   ]
  },
  {
   "cell_type": "code",
   "execution_count": null,
   "id": "5a3bc797",
   "metadata": {},
   "outputs": [],
   "source": [
    "# procurar todas as cidades começãm com a letra C\n",
    "filtro = df.ocorrencia_cidade.str[0] == 'C'\n",
    "df.loc[filtro]"
   ]
  },
  {
   "cell_type": "code",
   "execution_count": null,
   "id": "f4c45b74",
   "metadata": {},
   "outputs": [],
   "source": [
    "# procurar todas as cidades terminam com a letra A\n",
    "filtro = df.ocorrencia_cidade.str[0] == 'A'\n",
    "df.loc[filtro]"
   ]
  },
  {
   "cell_type": "code",
   "execution_count": null,
   "id": "fd51c7d8",
   "metadata": {},
   "outputs": [],
   "source": [
    "# procurar todas as cidades terminam com as letras MA\n",
    "filtro = df.ocorrencia_cidade.str[-2:] == 'MA'\n",
    "df.loc[filtro]"
   ]
  },
  {
   "cell_type": "code",
   "execution_count": null,
   "id": "a7b58143",
   "metadata": {},
   "outputs": [],
   "source": [
    "#  filtrar strings procurar todas as cidades contem em qualquer parte com as letras MA pode usar tambem or |\n",
    "filtro = df.ocorrencia_cidade.str.contains('MA|AL')\n",
    "df.loc[filtro]"
   ]
  },
  {
   "cell_type": "code",
   "execution_count": null,
   "id": "53757036",
   "metadata": {},
   "outputs": [],
   "source": [
    "#filtrar datas ocorrencias do ano de 2011\n",
    "filtro = df.ocorrencia_dia.dt.year == 2011\n",
    "df.loc[filtro]"
   ]
  },
  {
   "cell_type": "code",
   "execution_count": null,
   "id": "a8fe2f15",
   "metadata": {},
   "outputs": [],
   "source": [
    "#filtrar datas ocorrencias do ano de 2011 mes 12 para o dia só usar .day\n",
    "#(filtro = df.ocorrencia_dia.dt.year == 2011) & (filtro2 =df.ocorrencia_dia.dt.month == 12)\n",
    "filtro1 = df.ocorrencia_dia.dt.year == 2011\n",
    "filtro2 = df.ocorrencia_dia.dt.month == 12\n",
    "df.loc[filtro1 & filtro2]"
   ]
  },
  {
   "cell_type": "code",
   "execution_count": null,
   "id": "24ac09ac",
   "metadata": {},
   "outputs": [],
   "source": [
    "#f iltrar do dia 3 ao dia 8 só colocar dia (.day>=3) & (df.ocorrencia_dia.dt.day <=8)"
   ]
  },
  {
   "cell_type": "code",
   "execution_count": null,
   "id": "05d8fbfa",
   "metadata": {},
   "outputs": [],
   "source": [
    "#transformar a coluna data e hora em uma só ( str + date) tem que tranformar dia em str e depois pd.to_datetime para tranformar em data\n",
    "df['ocorrencia_dia_hora'] = pd.to_datetime(df.ocorrencia_dia.astype(str) + ' ' + df.ocorrencia_hora)"
   ]
  },
  {
   "cell_type": "code",
   "execution_count": null,
   "id": "912f68df",
   "metadata": {},
   "outputs": [],
   "source": [
    "df.head()"
   ]
  },
  {
   "cell_type": "code",
   "execution_count": null,
   "id": "d09046e3",
   "metadata": {},
   "outputs": [],
   "source": [
    "filtro1 = df.ocorrencia_dia_hora >= '2011-12-03 11:00:00'\n",
    "filtro2 = df.ocorrencia_dia_hora <= '2011-12-08 13:00:00'\n",
    "df[filtro1 & filtro2]"
   ]
  },
  {
   "cell_type": "markdown",
   "id": "3a02c60d",
   "metadata": {},
   "source": [
    "# AGRUPANDO DADOS"
   ]
  },
  {
   "cell_type": "code",
   "execution_count": null,
   "id": "80da1b79",
   "metadata": {},
   "outputs": [],
   "source": [
    "#filtrar datas ocorrencias do ano de 2011 E MÊS 3\n",
    "filtro1 = df.ocorrencia_dia.dt.year == 2011\n",
    "filtro2 = df.ocorrencia_dia.dt.month == 2\n",
    "df201102 = df.loc[filtro1 & filtro2]"
   ]
  },
  {
   "cell_type": "code",
   "execution_count": null,
   "id": "b0916984",
   "metadata": {},
   "outputs": [],
   "source": [
    "df201102"
   ]
  },
  {
   "cell_type": "code",
   "execution_count": null,
   "id": "71b4db48",
   "metadata": {},
   "outputs": [],
   "source": [
    "df201102.count()"
   ]
  },
  {
   "cell_type": "code",
   "execution_count": null,
   "id": "55de3615",
   "metadata": {},
   "outputs": [],
   "source": [
    "#contando pelo codigo de ocorrencia sempre verficar qual a melhor coluna para se contar se usa geralemtne a coluna que possui todos os dados\n",
    "df201102.groupby(['ocorrencia_classificacao']).codigo_ocorrencia.count()"
   ]
  },
  {
   "cell_type": "code",
   "execution_count": null,
   "id": "2e89b2fd",
   "metadata": {},
   "outputs": [],
   "source": [
    "df201102.groupby(['ocorrencia_classificacao']).ocorrencia_aerodromo.count()"
   ]
  },
  {
   "cell_type": "code",
   "execution_count": null,
   "id": "bd508e1c",
   "metadata": {},
   "outputs": [],
   "source": [
    "#contar por size = contar o numero de linhas que foram agrupadas\n",
    "df201102.groupby(['ocorrencia_classificacao']).size()"
   ]
  },
  {
   "cell_type": "code",
   "execution_count": null,
   "id": "e3b40148",
   "metadata": {},
   "outputs": [],
   "source": [
    "#ordenar\n",
    "df201102.groupby(['ocorrencia_classificacao']).size().sort_values()"
   ]
  },
  {
   "cell_type": "code",
   "execution_count": null,
   "id": "7376002e",
   "metadata": {},
   "outputs": [],
   "source": [
    "df201102.groupby(['ocorrencia_classificacao']).size().sort_values(ascending=False)"
   ]
  },
  {
   "cell_type": "code",
   "execution_count": null,
   "id": "256b53c0",
   "metadata": {},
   "outputs": [],
   "source": [
    "#agrupar ocorrencias no ano de 2011 na regiao sudeste \n",
    "filtro1 = df.ocorrencia_dia.dt.year == 2011\n",
    "filtro2 = df.ocorrencia_uf.isin(['SP','MG','ES','RJ'])\n",
    "dfsudeste2011 = df.loc[filtro1 & filtro2]\n",
    "dfsudeste2011"
   ]
  },
  {
   "cell_type": "code",
   "execution_count": null,
   "id": "8a78615a",
   "metadata": {},
   "outputs": [],
   "source": [
    "dfsudeste2011.groupby(['ocorrencia_classificacao']).size()"
   ]
  },
  {
   "cell_type": "code",
   "execution_count": null,
   "id": "592c4b78",
   "metadata": {},
   "outputs": [],
   "source": [
    "dfsudeste2011.groupby(['ocorrencia_classificacao','ocorrencia_uf']).size()"
   ]
  },
  {
   "cell_type": "code",
   "execution_count": null,
   "id": "20537877",
   "metadata": {},
   "outputs": [],
   "source": [
    "dfsudeste2011.groupby(['ocorrencia_uf','ocorrencia_classificacao']).size()"
   ]
  },
  {
   "cell_type": "code",
   "execution_count": null,
   "id": "99644fe7",
   "metadata": {},
   "outputs": [],
   "source": [
    "dfsudeste2011.groupby(['ocorrencia_cidade']).size().sort_values(ascending=False)"
   ]
  },
  {
   "cell_type": "code",
   "execution_count": null,
   "id": "3e4ed6af",
   "metadata": {},
   "outputs": [],
   "source": [
    "filtro = dfsudeste2011.ocorrencia_cidade == 'RIO DE JANEIRO'\n",
    "dfsudeste2011[filtro]"
   ]
  },
  {
   "cell_type": "code",
   "execution_count": null,
   "id": "d3c0a066",
   "metadata": {},
   "outputs": [],
   "source": [
    "#total de recomendacoes que o RJ teve\n",
    "dfsudeste2011[filtro].total_recomendacoes.sum()"
   ]
  },
  {
   "cell_type": "code",
   "execution_count": null,
   "id": "50852fa1",
   "metadata": {},
   "outputs": [],
   "source": [
    "dfsudeste2011.groupby(['ocorrencia_cidade']).total_recomendacoes.sum()"
   ]
  },
  {
   "cell_type": "code",
   "execution_count": null,
   "id": "f04dfa7a",
   "metadata": {},
   "outputs": [],
   "source": [
    "filtro1 = dfsudeste2011.ocorrencia_cidade == 'RIO DE JANEIRO'\n",
    "filtro2 = dfsudeste2011.total_recomendacoes > 0\n",
    "dfsudeste2011.loc[filtro1 & filtro2]"
   ]
  },
  {
   "cell_type": "code",
   "execution_count": null,
   "id": "ca399d98",
   "metadata": {},
   "outputs": [],
   "source": [
    "dfsudeste2011.groupby(['ocorrencia_aerodromo']).total_recomendacoes.sum()"
   ]
  },
  {
   "cell_type": "code",
   "execution_count": null,
   "id": "d11bc1b6",
   "metadata": {},
   "outputs": [],
   "source": [
    "#dropna traz algo que nao foi informado nas colunas, ele traz para o agrupamento\n",
    "dfsudeste2011.groupby(['ocorrencia_aerodromo'], dropna=False).total_recomendacoes.sum()"
   ]
  },
  {
   "cell_type": "code",
   "execution_count": null,
   "id": "9c2fc99c",
   "metadata": {},
   "outputs": [],
   "source": [
    "filtro = dfsudeste2011.total_recomendacoes > 0\n",
    "dfsudeste2011.loc[filtro].groupby(['ocorrencia_cidade']).total_recomendacoes.sum().sort_values(ascending=False)"
   ]
  },
  {
   "cell_type": "code",
   "execution_count": null,
   "id": "c3b356d8",
   "metadata": {},
   "outputs": [],
   "source": [
    "\n",
    "dfsudeste2011.loc[filtro].groupby(['ocorrencia_cidade', dfsudeste2011.ocorrencia_dia.dt.month]).total_recomendacoes.sum().sort_values(ascending=False)"
   ]
  },
  {
   "cell_type": "code",
   "execution_count": null,
   "id": "0155f3e1",
   "metadata": {},
   "outputs": [],
   "source": [
    "filtro1 = dfsudeste2011.total_recomendacoes > 0\n",
    "filtro2 = dfsudeste2011.ocorrencia_cidade == 'SÃO PAULO'\n",
    "dfsudeste2011.loc[filtro1 & filtro2]"
   ]
  },
  {
   "cell_type": "code",
   "execution_count": null,
   "id": "3e27a841",
   "metadata": {},
   "outputs": [],
   "source": []
  }
 ],
 "metadata": {
  "kernelspec": {
   "display_name": "Python 3",
   "language": "python",
   "name": "python3"
  },
  "language_info": {
   "codemirror_mode": {
    "name": "ipython",
    "version": 3
   },
   "file_extension": ".py",
   "mimetype": "text/x-python",
   "name": "python",
   "nbconvert_exporter": "python",
   "pygments_lexer": "ipython3",
   "version": "3.8.8"
  }
 },
 "nbformat": 4,
 "nbformat_minor": 5
}
